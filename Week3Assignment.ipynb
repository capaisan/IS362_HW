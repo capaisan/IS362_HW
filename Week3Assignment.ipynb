{
  "metadata": {
    "kernelspec": {
      "name": "python",
      "display_name": "Python (Pyodide)",
      "language": "python"
    },
    "language_info": {
      "codemirror_mode": {
        "name": "python",
        "version": 3
      },
      "file_extension": ".py",
      "mimetype": "text/x-python",
      "name": "python",
      "nbconvert_exporter": "python",
      "pygments_lexer": "ipython3",
      "version": "3.8"
    }
  },
  "nbformat_minor": 5,
  "nbformat": 4,
  "cells": [
    {
      "id": "97b8be5c-f522-4327-b8c4-9df7691bb5fd",
      "cell_type": "markdown",
      "source": "##*Here is the assignment for week 3.*\n\n#In the code below I am creating a dictionary to store the values of the bike ride from NYC to Key West, Florida. \n\n#I used Google maps to conclude that the total miles would be 1656\n\n#For added fun, I used the random function in Python to randomly assign a number of miles between 50 and 150 until we got to our 1656 miles. \n\n#This could probably be improved upon by factoring in city stops along routes for lodging, as well as incline and decline for better estimation of ability to complete miles. ",
      "metadata": {}
    },
    {
      "id": "d03baae7-c60b-4abd-94e2-707a569a2b7c",
      "cell_type": "code",
      "source": "import pandas, random\n\ntot_miles = 1656\n\ncumul_miles_dict = {}\n\ncur_cumul_miles = 0\nday = 1\n\nwhile cur_cumul_miles < tot_miles:\n    day_miles = random.randint(50,100)\n\n    next_cumul_miles = cur_cumul_miles + day_miles\n    \n    if next_cumul_miles >= tot_miles:\n        fin_day_miles = tot_miles - cur_cumul_miles\n        cur_cumul_miles += fin_day_miles\n        cumul_miles_dict[f'Day {day}'] = cur_cumul_miles\n        break\n    else:\n        cur_cumul_miles = next_cumul_miles\n        cumul_miles_dict[f'Day {day}'] = cur_cumul_miles\n        day+=1\n\nprint(\"Cumulative Miles:\")\nprint(cumul_miles_dict)\n",
      "metadata": {
        "trusted": true
      },
      "outputs": [
        {
          "name": "stdout",
          "output_type": "stream",
          "text": "Cumulative Miles:\n{'Day 1': 85, 'Day 2': 159, 'Day 3': 225, 'Day 4': 316, 'Day 5': 413, 'Day 6': 470, 'Day 7': 548, 'Day 8': 643, 'Day 9': 731, 'Day 10': 809, 'Day 11': 869, 'Day 12': 963, 'Day 13': 1016, 'Day 14': 1105, 'Day 15': 1186, 'Day 16': 1249, 'Day 17': 1336, 'Day 18': 1429, 'Day 19': 1499, 'Day 20': 1584, 'Day 21': 1637, 'Day 22': 1656}\n"
        }
      ],
      "execution_count": 35
    },
    {
      "id": "f6c872b3-4a8e-4fee-8e37-a7902963d5e2",
      "cell_type": "markdown",
      "source": "#Here we are compiling the data into a series and displaying the cumulative miles for each day. ",
      "metadata": {}
    },
    {
      "id": "2a7b5158-f6a3-4055-895c-92cdf5d7de9c",
      "cell_type": "code",
      "source": "miles_series = pandas.Series(cumul_miles_dict, name=\"Cumulative Miles\")\nprint(\"Cumulative Miles:\")\nprint(miles_series)",
      "metadata": {
        "trusted": true
      },
      "outputs": [
        {
          "name": "stdout",
          "output_type": "stream",
          "text": "Cumulative Miles:\nDay 1       85\nDay 2      159\nDay 3      225\nDay 4      316\nDay 5      413\nDay 6      470\nDay 7      548\nDay 8      643\nDay 9      731\nDay 10     809\nDay 11     869\nDay 12     963\nDay 13    1016\nDay 14    1105\nDay 15    1186\nDay 16    1249\nDay 17    1336\nDay 18    1429\nDay 19    1499\nDay 20    1584\nDay 21    1637\nDay 22    1656\nName: Cumulative Miles, dtype: int64\n"
        }
      ],
      "execution_count": 36
    },
    {
      "id": "fcb1b858-650b-44f5-9664-574c9036b271",
      "cell_type": "markdown",
      "source": "#Here we compiled the data into a series for the daily amount of miles logged and displayed it.",
      "metadata": {}
    },
    {
      "id": "27880b77-a1f2-4aaf-a5c2-17ea59fafc9d",
      "cell_type": "code",
      "source": "day_miles_series = miles_series.diff()\nday_miles_series.iloc[0] = miles_series.iloc[0]\nday_miles_series.name = \"Daily Miles\"\nprint(\"Daily Miles Log:\")\nprint(day_miles_series)",
      "metadata": {
        "trusted": true
      },
      "outputs": [
        {
          "name": "stdout",
          "output_type": "stream",
          "text": "Daily Miles Log:\nDay 1     85.0\nDay 2     74.0\nDay 3     66.0\nDay 4     91.0\nDay 5     97.0\nDay 6     57.0\nDay 7     78.0\nDay 8     95.0\nDay 9     88.0\nDay 10    78.0\nDay 11    60.0\nDay 12    94.0\nDay 13    53.0\nDay 14    89.0\nDay 15    81.0\nDay 16    63.0\nDay 17    87.0\nDay 18    93.0\nDay 19    70.0\nDay 20    85.0\nDay 21    53.0\nDay 22    19.0\nName: Daily Miles, dtype: float64\n"
        }
      ],
      "execution_count": 37
    },
    {
      "id": "b53c1e86-9cde-4e59-89eb-f6bcf2e49f75",
      "cell_type": "markdown",
      "source": "##Here we have taken the daily series and added them with the sum() function, and printed the total.\n#We also printed out how many days it took to complete this trek. ",
      "metadata": {}
    },
    {
      "id": "2b1d3327-44e7-4716-9ab7-f69c3ade24dc",
      "cell_type": "code",
      "source": "tot_miles_sum = day_miles_series.sum()\nprint(f\"Total miles ridden: {int(tot_miles_sum)}\")\nprint(f\"Number of days: {len(miles_series)}\")",
      "metadata": {
        "trusted": true
      },
      "outputs": [
        {
          "name": "stdout",
          "output_type": "stream",
          "text": "Total miles ridden: 1656\nNumber of days: 22\n"
        }
      ],
      "execution_count": 38
    },
    {
      "id": "07623f98-7184-48d2-8224-7dd1ad4eaccf",
      "cell_type": "code",
      "source": "",
      "metadata": {
        "trusted": true
      },
      "outputs": [],
      "execution_count": null
    }
  ]
}