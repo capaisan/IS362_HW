{
 "cells": [
  {
   "cell_type": "markdown",
   "id": "2ada6b59-004e-44f8-845c-dfa7ba01a9bf",
   "metadata": {},
   "source": [
    "# Navigating Nested Data Structures in Python"
   ]
  },
  {
   "cell_type": "markdown",
   "id": "7c62d58e-0586-4b04-b4c5-50d6aae274a8",
   "metadata": {},
   "source": [
    "### What is the Data Structure?\n",
    "\n",
    "The data structure in this notebook is a **list of dictionaries**. This is a common way to store complex information, where each dictionary represents an item (in our case, a student) with different attributes."
   ]
  },
  {
   "cell_type": "code",
   "execution_count": null,
   "id": "7b3ef120-5498-4b23-bc4d-1e560df61b97",
   "metadata": {},
   "outputs": [],
   "source": [
    "students = [\n",
    "    {'id': 'S001', 'name': 'Alice', 'scores': \n",
    "        { 'math': 95, 'science': 88}},\n",
    "    {'id': 'S002', 'name': 'Bob', 'scores': \n",
    "        { 'math': 78, 'science': 92}},\n",
    "    {'id': 'S003', 'name': 'Charlie', 'scores': \n",
    "        { 'math': 85, 'science': 79 }}\n",
    "]"
   ]
  },
  {
   "cell_type": "markdown",
   "id": "dec3a6b2-2c96-4ca6-ad35-28c7a56036b0",
   "metadata": {},
   "source": [
    "### Accessing a Specific Value\n",
    "\n",
    "To get to a specific piece of data, you must access the outer layers before the inner ones. For example, to get Alice's science score, you must first access the correct dictionary in the list, then the 'scores' key, and finally the 'science' key."
   ]
  },
  {
   "cell_type": "code",
   "execution_count": null,
   "id": "2c018efc-a77e-4ea2-8ca4-1cac76ce0172",
   "metadata": {},
   "outputs": [],
   "source": [
    "# Access and print Bob's name\n",
    "bobs_name = students[1]['name']\n",
    "print(f\"The second student's name is: {bobs_name}\")\n",
    "\n",
    "# Access and print Alice's science score\n",
    "alice_science_score = students[0]['scores']['science']\n",
    "print(f\"Alice's science score is: {alice_science_score}\")"
   ]
  },
  {
   "cell_type": "markdown",
   "id": "607a1f37-0337-4e5d-aa69-bc4ad64b5d4f",
   "metadata": {},
   "source": [
    "### Looping Through the Data\n",
    "\n",
    "A `for` loop is ideal for processing every item in a list. Inside the loop, you can access the nested data for each student to perform an action, like printing their name and a specific score."
   ]
  },
  {
   "cell_type": "code",
   "execution_count": null,
   "id": "a2d62bc6-6f51-456b-9cd0-a5b82923f4cf",
   "metadata": {},
   "outputs": [],
   "source": [
    "# Print each student's name along with their math score\n",
    "for student in students:\n",
    "    student_name = student['name']\n",
    "    math_score = student['scores']['math']\n",
    "    print(f\"{student_name} got a math score of {math_score}.\")"
   ]
  }
 ],
 "metadata": {
  "kernelspec": {
   "display_name": "Python [conda env:base] *",
   "language": "python",
   "name": "conda-base-py"
  },
  "language_info": {
   "codemirror_mode": {
    "name": "ipython",
    "version": 3
   },
   "file_extension": ".py",
   "mimetype": "text/x-python",
   "name": "python",
   "nbconvert_exporter": "python",
   "pygments_lexer": "ipython3",
   "version": "3.13.5"
  }
 },
 "nbformat": 4,
 "nbformat_minor": 5
}
